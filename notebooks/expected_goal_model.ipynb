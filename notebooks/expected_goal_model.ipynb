{
 "cells": [
  {
   "cell_type": "code",
   "execution_count": 119,
   "metadata": {},
   "outputs": [],
   "source": [
    "from socceraction.data.wyscout import PublicWyscoutLoader\n",
    "from socceraction.spadl.wyscout import convert_to_actions\n",
    "from socceraction.data.opta import OptaLoader\n",
    "from socceraction.data.statsbomb import StatsBombLoader\n",
    "from socceraction.spadl.config import actiontypes, bodyparts\n",
    "import socceraction.spadl as spadl\n",
    "import pandas as pd\n",
    "import matplotlib.pyplot as plt\n",
    "import numpy as np\n",
    "from sklearn import preprocessing\n",
    "from sklearn.model_selection import train_test_split\n",
    "from sklearn.metrics import classification_report, mean_squared_error\n",
    "from xgboost import XGBClassifier, XGBRegressor\n",
    "import math"
   ]
  },
  {
   "cell_type": "code",
   "execution_count": 120,
   "metadata": {},
   "outputs": [],
   "source": [
    "api_wyscout = PublicWyscoutLoader(root=\"data/wyscout\")\n",
    "api_opta = OptaLoader(root=\"data/opta\")\n",
    "# api_statsbomb = StatsBombLoader(root=\"data/statsbomb\")"
   ]
  },
  {
   "cell_type": "code",
   "execution_count": 121,
   "metadata": {},
   "outputs": [
    {
     "name": "stdout",
     "output_type": "stream",
     "text": [
      "action_id : 0   action_name : pass\n",
      "action_id : 1   action_name : cross\n",
      "action_id : 2   action_name : throw_in\n",
      "action_id : 3   action_name : freekick_crossed\n",
      "action_id : 4   action_name : freekick_short\n",
      "action_id : 5   action_name : corner_crossed\n",
      "action_id : 6   action_name : corner_short\n",
      "action_id : 7   action_name : take_on\n",
      "action_id : 8   action_name : foul\n",
      "action_id : 9   action_name : tackle\n",
      "action_id : 10   action_name : interception\n",
      "action_id : 11   action_name : shot\n",
      "action_id : 12   action_name : shot_penalty\n",
      "action_id : 13   action_name : shot_freekick\n",
      "action_id : 14   action_name : keeper_save\n",
      "action_id : 15   action_name : keeper_claim\n",
      "action_id : 16   action_name : keeper_punch\n",
      "action_id : 17   action_name : keeper_pick_up\n",
      "action_id : 18   action_name : clearance\n",
      "action_id : 19   action_name : bad_touch\n",
      "action_id : 20   action_name : non_action\n",
      "action_id : 21   action_name : dribble\n",
      "action_id : 22   action_name : goalkick\n"
     ]
    }
   ],
   "source": [
    "for idx, action_name in enumerate(actiontypes):\n",
    "    print(f'action_id : {idx}   action_name : {action_name}')"
   ]
  },
  {
   "cell_type": "code",
   "execution_count": 122,
   "metadata": {},
   "outputs": [
    {
     "name": "stdout",
     "output_type": "stream",
     "text": [
      "bodypart_id : 0   bodypart_name : foot\n",
      "bodypart_id : 1   bodypart_name : head\n",
      "bodypart_id : 2   bodypart_name : other\n",
      "bodypart_id : 3   bodypart_name : head/other\n",
      "bodypart_id : 4   bodypart_name : foot_left\n",
      "bodypart_id : 5   bodypart_name : foot_right\n"
     ]
    }
   ],
   "source": [
    "for idx, bodypart_name in enumerate(bodyparts):\n",
    "    print(f'bodypart_id : {idx}   bodypart_name : {bodypart_name}')"
   ]
  },
  {
   "cell_type": "code",
   "execution_count": 123,
   "metadata": {},
   "outputs": [],
   "source": [
    "def convert_events_df_to_spadl(events_df, home_team_id):\n",
    "    spadl_events_df = convert_to_actions(events_df, home_team_id)\n",
    "    spadl_events_df['time_seconds'] = spadl_events_df['time_seconds'].astype('float64')\n",
    "    spadl_events_df['timestamp'] = pd.to_datetime(spadl_events_df['time_seconds'], unit='s')\n",
    "    spadl_events_df = spadl.play_left_to_right(spadl_events_df, home_team_id)\n",
    "    return spadl_events_df"
   ]
  },
  {
   "cell_type": "code",
   "execution_count": 124,
   "metadata": {},
   "outputs": [],
   "source": [
    "# FUNCTION TO ADD ADDITIONAL INFO IN RAW SPADL DATAFRAME\n",
    "STANDARD_LENGTH_COURT = 105\n",
    "STANDARD_WIDTH_COURT = 68\n",
    "STANDARD_GOALLINE_WIDTH = 7.32\n",
    "\n",
    "# Helper Functions\n",
    "def calculate_distance_to_goal(length_court, width_court, coordinate_x, coordinate_y, is_home_team):\n",
    "    if is_home_team:\n",
    "        distance_to_goal = math.sqrt((abs(length_court - coordinate_x)) ** 2 + (abs((0.5 * width_court) - coordinate_y)) ** 2)\n",
    "    else:\n",
    "        distance_to_goal = math.sqrt((coordinate_x) ** 2 + (abs((0.5 * width_court) - coordinate_y)) ** 2)\n",
    "    return distance_to_goal\n",
    "\n",
    "def calculate_distance_to_goal_apply_df(row):\n",
    "    return calculate_distance_to_goal(STANDARD_LENGTH_COURT, STANDARD_WIDTH_COURT, row['start_x'], row['start_y'], row['is_home_team'])\n",
    "\n",
    "def calculate_angle_to_goal(goalline_width, length_court, width_court, coordinate_x, coordinate_y, is_home_team):\n",
    "    if is_home_team:\n",
    "        L = abs(length_court - coordinate_x)\n",
    "    else:\n",
    "        L = coordinate_x\n",
    "    W = abs((0.5 * width_court) - coordinate_y)\n",
    "    return math.atan((goalline_width * L) / (L ** 2 + W ** 2 - (goalline_width / 2) ** 2))\n",
    "\n",
    "def calculate_angle_to_goal_apply_df(row):\n",
    "    return calculate_angle_to_goal(STANDARD_GOALLINE_WIDTH, STANDARD_LENGTH_COURT, STANDARD_WIDTH_COURT, row['start_x'], row['start_y'], row['is_home_team'])\n",
    "\n",
    "def filter_out_is_home_team_apply_df(row, home_team_id):\n",
    "    return 1 if row['team_id'] == home_team_id else 0\n",
    "\n",
    "# Add distance to goal column\n",
    "def add_distance_to_goal_column_to_spadl_df(spadl_df):\n",
    "    spadl_df['distance_to_goal'] = spadl_df.apply(calculate_distance_to_goal_apply_df, axis=1)\n",
    "    return spadl_df\n",
    "\n",
    "# Add angle to goal column \n",
    "def add_angle_to_goal_column_to_spadl_df(spadl_df):\n",
    "    spadl_df['angle_to_goal'] = spadl_df.apply(calculate_angle_to_goal_apply_df, axis=1)\n",
    "    return spadl_df\n",
    "\n",
    "# Add is_home_team column (boolean 0/1)\n",
    "def add_is_home_team_column_to_spadl_df(spadl_df, home_team_id):\n",
    "    spadl_df['is_home_team'] = spadl_df.apply(lambda x : filter_out_is_home_team_apply_df(x, home_team_id), axis=1)\n",
    "    return spadl_df"
   ]
  },
  {
   "cell_type": "code",
   "execution_count": 125,
   "metadata": {},
   "outputs": [],
   "source": [
    "# Collect all dataset action specific type, export them to csv files\n",
    "# Shot (action_id = 11), shot_penalty (action_id = 12), shot_freekick (action_id = 13)\n",
    "SHOT_ACTION_ID = [11, 12, 13] \n",
    "\n",
    "def collect_raw_goal_spadl_df(source=\"Wyscout\", period=1):\n",
    "    api = api_wyscout\n",
    "    list_competitions_ids = []\n",
    "    list_game_ids = []\n",
    "\n",
    "    competitions_df = api.competitions()\n",
    "    for _, row in competitions_df.iterrows():\n",
    "        list_competitions_ids.append((row['competition_id'], row['season_id']))\n",
    "        \n",
    "    for competition_id, season_id in list_competitions_ids:\n",
    "        games_df = api.games(competition_id, season_id)\n",
    "        for _, row in games_df.iterrows():\n",
    "            list_game_ids.append((row['game_id'], row['home_team_id'], row['away_team_id']))\n",
    "            \n",
    "    for game_id, home_team_id, away_team_id in list_game_ids:\n",
    "        this_game_events_df = api.events(game_id)\n",
    "        this_game_events_spadl_df = convert_events_df_to_spadl(this_game_events_df, home_team_id)\n",
    "        this_game_events_spadl_df = this_game_events_spadl_df[this_game_events_spadl_df['type_id'].isin(SHOT_ACTION_ID)]\n",
    "        if (period != None):\n",
    "            this_game_events_spadl_df = this_game_events_spadl_df[this_game_events_spadl_df['period_id'] == period]\n",
    "        else:\n",
    "            this_game_events_spadl_df = this_game_events_spadl_df[this_game_events_spadl_df['period_id'] == 1]\n",
    "        # Add additional computed column to support xG model\n",
    "        this_game_events_spadl_df = add_is_home_team_column_to_spadl_df(this_game_events_spadl_df, home_team_id)\n",
    "        this_game_events_spadl_df = add_distance_to_goal_column_to_spadl_df(this_game_events_spadl_df)\n",
    "        this_game_events_spadl_df = add_angle_to_goal_column_to_spadl_df(this_game_events_spadl_df)\n",
    "\n",
    "        # Export to external csv iteratively\n",
    "        this_game_events_spadl_df.to_csv(f'data/training_data_xgoal_wyscout/{game_id}_{home_team_id}_{away_team_id}_xgoal_data.csv')            "
   ]
  },
  {
   "cell_type": "code",
   "execution_count": 126,
   "metadata": {},
   "outputs": [],
   "source": [
    "# MAIN DRIVER (comment it if csv files already loaded)\n",
    "# collect_raw_goal_spadl_df()"
   ]
  },
  {
   "cell_type": "code",
   "execution_count": 127,
   "metadata": {},
   "outputs": [],
   "source": [
    "# Load csv datas already retrieved then concat them into one big dataframe\n",
    "import os\n",
    "\n",
    "DIRECTORY_XGOAL_CSV_DATAS = \"data/training_data_xgoal_wyscout\"\n",
    "\n",
    "def load_and_concat_xgoal_df_from_csv():\n",
    "    list_pass_event_df = []\n",
    "    for filename in os.listdir(DIRECTORY_XGOAL_CSV_DATAS):\n",
    "        f = os.path.join(DIRECTORY_XGOAL_CSV_DATAS, filename)\n",
    "        if os.path.isfile(f):\n",
    "            pass_event_df = pd.read_csv(f)\n",
    "            list_pass_event_df.append(pass_event_df)\n",
    "    return pd.concat(list_pass_event_df)"
   ]
  },
  {
   "cell_type": "code",
   "execution_count": 128,
   "metadata": {},
   "outputs": [],
   "source": [
    "big_dataframe_xgoal_model = load_and_concat_xgoal_df_from_csv()"
   ]
  },
  {
   "cell_type": "code",
   "execution_count": 129,
   "metadata": {},
   "outputs": [
    {
     "data": {
      "text/html": [
       "<div>\n",
       "<style scoped>\n",
       "    .dataframe tbody tr th:only-of-type {\n",
       "        vertical-align: middle;\n",
       "    }\n",
       "\n",
       "    .dataframe tbody tr th {\n",
       "        vertical-align: top;\n",
       "    }\n",
       "\n",
       "    .dataframe thead th {\n",
       "        text-align: right;\n",
       "    }\n",
       "</style>\n",
       "<table border=\"1\" class=\"dataframe\">\n",
       "  <thead>\n",
       "    <tr style=\"text-align: right;\">\n",
       "      <th></th>\n",
       "      <th>bodypart_id</th>\n",
       "      <th>result_id</th>\n",
       "      <th>is_home_team</th>\n",
       "      <th>distance_to_goal</th>\n",
       "      <th>angle_to_goal</th>\n",
       "    </tr>\n",
       "  </thead>\n",
       "  <tbody>\n",
       "    <tr>\n",
       "      <th>0</th>\n",
       "      <td>0</td>\n",
       "      <td>0</td>\n",
       "      <td>1</td>\n",
       "      <td>17.123694</td>\n",
       "      <td>0.242346</td>\n",
       "    </tr>\n",
       "    <tr>\n",
       "      <th>1</th>\n",
       "      <td>0</td>\n",
       "      <td>0</td>\n",
       "      <td>0</td>\n",
       "      <td>75.905342</td>\n",
       "      <td>0.094651</td>\n",
       "    </tr>\n",
       "    <tr>\n",
       "      <th>2</th>\n",
       "      <td>0</td>\n",
       "      <td>0</td>\n",
       "      <td>0</td>\n",
       "      <td>100.912326</td>\n",
       "      <td>0.072426</td>\n",
       "    </tr>\n",
       "    <tr>\n",
       "      <th>3</th>\n",
       "      <td>3</td>\n",
       "      <td>0</td>\n",
       "      <td>0</td>\n",
       "      <td>101.077151</td>\n",
       "      <td>0.072191</td>\n",
       "    </tr>\n",
       "    <tr>\n",
       "      <th>4</th>\n",
       "      <td>0</td>\n",
       "      <td>0</td>\n",
       "      <td>1</td>\n",
       "      <td>28.682679</td>\n",
       "      <td>0.233111</td>\n",
       "    </tr>\n",
       "  </tbody>\n",
       "</table>\n",
       "</div>"
      ],
      "text/plain": [
       "   bodypart_id  result_id  is_home_team  distance_to_goal  angle_to_goal\n",
       "0            0          0             1         17.123694       0.242346\n",
       "1            0          0             0         75.905342       0.094651\n",
       "2            0          0             0        100.912326       0.072426\n",
       "3            3          0             0        101.077151       0.072191\n",
       "4            0          0             1         28.682679       0.233111"
      ]
     },
     "execution_count": 129,
     "metadata": {},
     "output_type": "execute_result"
    }
   ],
   "source": [
    "# SELECT ONLY FEATURED COLUMN FROM BIG DATASETS\n",
    "features_column_included = [\"distance_to_goal\", \"angle_to_goal\", \"is_home_team\", \"bodypart_id\", \"result_id\"]\n",
    "big_dataframe_xpass_model = big_dataframe_xgoal_model[[c for c in big_dataframe_xgoal_model.columns if c in features_column_included]]\n",
    "big_dataframe_xpass_model.head()"
   ]
  },
  {
   "cell_type": "code",
   "execution_count": 130,
   "metadata": {},
   "outputs": [
    {
     "name": "stdout",
     "output_type": "stream",
     "text": [
      "0    18981\n",
      "1     2185\n",
      "Name: result_id, dtype: int64\n",
      "0.0    18981\n",
      "1.0     2185\n",
      "Name: result_id, dtype: int64\n",
      "Mean squared error :  0.08655013477989461\n"
     ]
    }
   ],
   "source": [
    "# FEATURE PREPROCESSING BIG DATASETS AND CREATE XGBOOST MODEL\n",
    "# 1. Change start_x, start_y, end_x, end_y with StandardScaler\n",
    "scaler = preprocessing.StandardScaler()\n",
    "columns = [\"distance_to_goal\", \"angle_to_goal\"]\n",
    "big_dataframe_xgoal_model[columns] = scaler.fit_transform(big_dataframe_xgoal_model[columns])\n",
    "\n",
    "# 2. Check if data is unbalanced. If it is unbalanced, then do method to oversize the sample\n",
    "print(big_dataframe_xgoal_model['result_id'].value_counts())\n",
    "\n",
    "# 3. Change result_id label into float64 type\n",
    "big_dataframe_xgoal_model['result_id'] = big_dataframe_xgoal_model['result_id'].astype('float64')\n",
    "\n",
    "# 4. Remove dataframe instead of having result_id (0,1) --> (fail, success)\n",
    "big_dataframe_xgoal_model = big_dataframe_xgoal_model[big_dataframe_xgoal_model['result_id'].isin([0,1])]\n",
    "print(big_dataframe_xgoal_model['result_id'].value_counts())\n",
    "\n",
    "# 5. Split train data and test data from Big Datasets\n",
    "all_feature_columns = [\"distance_to_goal\", \"angle_to_goal\", \"is_home_team\", \"bodypart_id\"]\n",
    "X_train = big_dataframe_xgoal_model[all_feature_columns]\n",
    "Y_train = big_dataframe_xgoal_model[\"result_id\"]\n",
    "X_train_split, X_test_split, y_train_split, y_test_split = train_test_split(X_train, Y_train, test_size=0.4)\n",
    "\n",
    "# 6. Train XGBoost Model \n",
    "modelXGB = XGBRegressor()\n",
    "modelXGB.fit(X_train_split, y_train_split)\n",
    "\n",
    "# 7. Predict Testing Data\n",
    "y_predict = modelXGB.predict(X_test_split)\n",
    "\n",
    "# 8. Display report for prediction\n",
    "print(\"Mean squared error : \", mean_squared_error(y_test_split, y_predict))"
   ]
  }
 ],
 "metadata": {
  "kernelspec": {
   "display_name": "Python 3",
   "language": "python",
   "name": "python3"
  },
  "language_info": {
   "codemirror_mode": {
    "name": "ipython",
    "version": 3
   },
   "file_extension": ".py",
   "mimetype": "text/x-python",
   "name": "python",
   "nbconvert_exporter": "python",
   "pygments_lexer": "ipython3",
   "version": "3.11.5"
  }
 },
 "nbformat": 4,
 "nbformat_minor": 2
}
