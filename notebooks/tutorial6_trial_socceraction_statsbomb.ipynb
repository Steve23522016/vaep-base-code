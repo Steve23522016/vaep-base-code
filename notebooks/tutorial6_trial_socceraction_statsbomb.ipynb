{
 "cells": [
  {
   "cell_type": "code",
   "execution_count": 1,
   "metadata": {},
   "outputs": [],
   "source": [
    "from socceraction.spadl.statsbomb import convert_to_actions\n",
    "from socceraction.data.statsbomb import StatsBombLoader\n",
    "from socceraction.spadl.config import actiontypes, bodyparts\n",
    "import socceraction.spadl as spadl\n",
    "import pandas as pd\n",
    "import matplotlib.pyplot as plt\n",
    "import numpy as np\n",
    "from sklearn import preprocessing\n",
    "from sklearn.model_selection import train_test_split\n",
    "from sklearn.metrics import classification_report, mean_squared_error\n",
    "from xgboost import XGBClassifier, XGBRegressor\n",
    "import math\n",
    "import pickle\n",
    "from mplsoccer import Pitch\n",
    "import hashlib\n",
    "import copy\n",
    "import random"
   ]
  },
  {
   "cell_type": "code",
   "execution_count": 2,
   "metadata": {},
   "outputs": [],
   "source": [
    "api = StatsBombLoader(root=\"data/statsbomb\")"
   ]
  },
  {
   "cell_type": "code",
   "execution_count": 3,
   "metadata": {},
   "outputs": [],
   "source": [
    "# # Competitions Input\n",
    "# competitions_df = api.competitions()\n",
    "# competitions_df[competitions_df[\"country_name\"] == \"International\"]"
   ]
  },
  {
   "cell_type": "code",
   "execution_count": 4,
   "metadata": {},
   "outputs": [],
   "source": [
    "# # Games Input (Competition_id, Season_id)\n",
    "# games_world_cup_2018_df = api.games(43, 3)\n",
    "# games_world_cup_2018_df"
   ]
  },
  {
   "cell_type": "code",
   "execution_count": 5,
   "metadata": {},
   "outputs": [],
   "source": [
    "# # Teams Input (game_id)\n",
    "# teams_world_cup_2018_df = api.teams(7559)\n",
    "# teams_world_cup_2018_df.head()"
   ]
  },
  {
   "cell_type": "code",
   "execution_count": 6,
   "metadata": {},
   "outputs": [],
   "source": [
    "# # Player Input (game_id)\n",
    "# players_df = api.players(7559)\n",
    "# players_df"
   ]
  },
  {
   "cell_type": "code",
   "execution_count": 7,
   "metadata": {},
   "outputs": [],
   "source": [
    "# # Events Input (game_id)\n",
    "# event_world_cup_2018_df = api.events(7559)\n",
    "# event_world_cup_2018_df"
   ]
  }
 ],
 "metadata": {
  "kernelspec": {
   "display_name": "Python 3",
   "language": "python",
   "name": "python3"
  },
  "language_info": {
   "codemirror_mode": {
    "name": "ipython",
    "version": 3
   },
   "file_extension": ".py",
   "mimetype": "text/x-python",
   "name": "python",
   "nbconvert_exporter": "python",
   "pygments_lexer": "ipython3",
   "version": "3.11.5"
  }
 },
 "nbformat": 4,
 "nbformat_minor": 2
}
