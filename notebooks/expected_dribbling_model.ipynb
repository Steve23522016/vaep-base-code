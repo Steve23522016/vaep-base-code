{
 "cells": [
  {
   "cell_type": "code",
   "execution_count": 271,
   "metadata": {},
   "outputs": [],
   "source": [
    "from socceraction.data.wyscout import PublicWyscoutLoader\n",
    "from socceraction.spadl.wyscout import convert_to_actions\n",
    "from socceraction.data.opta import OptaLoader\n",
    "from socceraction.data.statsbomb import StatsBombLoader\n",
    "from socceraction.spadl.config import actiontypes, bodyparts\n",
    "import socceraction.spadl as spadl\n",
    "import pandas as pd\n",
    "import matplotlib.pyplot as plt\n",
    "import numpy as np\n",
    "from sklearn import preprocessing\n",
    "from sklearn.model_selection import train_test_split\n",
    "from sklearn.metrics import classification_report, mean_squared_error\n",
    "from xgboost import XGBClassifier, XGBRegressor\n",
    "import math\n",
    "import pickle\n",
    "import os\n",
    "from name_matching.name_matcher import NameMatcher\n",
    "from rapidfuzz import fuzz"
   ]
  },
  {
   "cell_type": "code",
   "execution_count": 272,
   "metadata": {},
   "outputs": [],
   "source": [
    "api_wyscout = PublicWyscoutLoader(root=\"data/wyscout\")\n",
    "api_opta = OptaLoader(root=\"data/opta\")\n",
    "# api_statsbomb = StatsBombLoader(root=\"data/statsbomb\")"
   ]
  },
  {
   "cell_type": "code",
   "execution_count": 273,
   "metadata": {},
   "outputs": [
    {
     "name": "stdout",
     "output_type": "stream",
     "text": [
      "action_id : 0   action_name : pass\n",
      "action_id : 1   action_name : cross\n",
      "action_id : 2   action_name : throw_in\n",
      "action_id : 3   action_name : freekick_crossed\n",
      "action_id : 4   action_name : freekick_short\n",
      "action_id : 5   action_name : corner_crossed\n",
      "action_id : 6   action_name : corner_short\n",
      "action_id : 7   action_name : take_on\n",
      "action_id : 8   action_name : foul\n",
      "action_id : 9   action_name : tackle\n",
      "action_id : 10   action_name : interception\n",
      "action_id : 11   action_name : shot\n",
      "action_id : 12   action_name : shot_penalty\n",
      "action_id : 13   action_name : shot_freekick\n",
      "action_id : 14   action_name : keeper_save\n",
      "action_id : 15   action_name : keeper_claim\n",
      "action_id : 16   action_name : keeper_punch\n",
      "action_id : 17   action_name : keeper_pick_up\n",
      "action_id : 18   action_name : clearance\n",
      "action_id : 19   action_name : bad_touch\n",
      "action_id : 20   action_name : non_action\n",
      "action_id : 21   action_name : dribble\n",
      "action_id : 22   action_name : goalkick\n"
     ]
    }
   ],
   "source": [
    "for idx, action_name in enumerate(actiontypes):\n",
    "    print(f'action_id : {idx}   action_name : {action_name}')"
   ]
  },
  {
   "cell_type": "code",
   "execution_count": 274,
   "metadata": {},
   "outputs": [
    {
     "name": "stdout",
     "output_type": "stream",
     "text": [
      "bodypart_id : 0   bodypart_name : foot\n",
      "bodypart_id : 1   bodypart_name : head\n",
      "bodypart_id : 2   bodypart_name : other\n",
      "bodypart_id : 3   bodypart_name : head/other\n",
      "bodypart_id : 4   bodypart_name : foot_left\n",
      "bodypart_id : 5   bodypart_name : foot_right\n"
     ]
    }
   ],
   "source": [
    "for idx, bodypart_name in enumerate(bodyparts):\n",
    "    print(f'bodypart_id : {idx}   bodypart_name : {bodypart_name}')"
   ]
  },
  {
   "cell_type": "code",
   "execution_count": 275,
   "metadata": {},
   "outputs": [],
   "source": [
    "def convert_events_df_to_spadl(events_df, home_team_id):\n",
    "    spadl_events_df = convert_to_actions(events_df, home_team_id)\n",
    "    spadl_events_df['time_seconds'] = spadl_events_df['time_seconds'].astype('float64')\n",
    "    spadl_events_df['timestamp'] = pd.to_datetime(spadl_events_df['time_seconds'], unit='s')\n",
    "    spadl_events_df = spadl.play_left_to_right(spadl_events_df, home_team_id)\n",
    "    return spadl_events_df"
   ]
  },
  {
   "cell_type": "code",
   "execution_count": 276,
   "metadata": {},
   "outputs": [],
   "source": [
    "# FUNCTION TO ADD ADDITIONAL INFO IN RAW SPADL DATAFRAME\n",
    "STANDARD_LENGTH_COURT = 105\n",
    "STANDARD_WIDTH_COURT = 68\n",
    "STANDARD_GOALLINE_WIDTH = 7.32\n",
    "\n",
    "# Helper Functions\n",
    "def filter_out_is_home_team_apply_df(row, home_team_id):\n",
    "    return 1 if row['team_id'] == home_team_id else 0\n",
    "\n",
    "def filter_out_take_on_or_dribble_apply_df(row, take_on_action_id):\n",
    "    return 1 if row['action_id'] == take_on_action_id else 0\n",
    "\n",
    "# Add is_home_team column (boolean 0/1)\n",
    "def add_is_home_team_column_to_spadl_df(spadl_df, home_team_id):\n",
    "    spadl_df['is_home_team'] = spadl_df.apply(lambda x : filter_out_is_home_team_apply_df(x, home_team_id), axis=1)\n",
    "    return spadl_df\n",
    "\n",
    "# Add is_take_on column (boolean 0/1)\n",
    "def add_is_take_on_column_to_spadl_df(spadl_df, take_on_action_id):\n",
    "    spadl_df['is_take_on'] = spadl_df.apply(lambda x : filter_out_take_on_or_dribble_apply_df(x, take_on_action_id), axis=1)\n",
    "    return spadl_df"
   ]
  },
  {
   "cell_type": "code",
   "execution_count": 277,
   "metadata": {},
   "outputs": [],
   "source": [
    "# Collect all dataset action specific type, export them to csv files\n",
    "# Take_on (action_id = 7), Dribble (action_id = 21)\n",
    "DRIBBLE_ACTION_ID = [7, 21] \n",
    "TAKE_ON_ACTION_ID = 7\n",
    "\n",
    "def collect_raw_pass_spadl_df(source=\"Wyscout\", period=1):\n",
    "    api = api_wyscout\n",
    "    list_competitions_ids = []\n",
    "    list_game_ids = []\n",
    "\n",
    "    competitions_df = api.competitions()\n",
    "    for _, row in competitions_df.iterrows():\n",
    "        list_competitions_ids.append((row['competition_id'], row['season_id']))\n",
    "        \n",
    "    for competition_id, season_id in list_competitions_ids:\n",
    "        games_df = api.games(competition_id, season_id)\n",
    "        for _, row in games_df.iterrows():\n",
    "            list_game_ids.append((row['game_id'], row['home_team_id'], row['away_team_id']))\n",
    "            \n",
    "    for game_id, home_team_id, away_team_id in list_game_ids:\n",
    "        this_game_events_df = api.events(game_id)\n",
    "        this_game_events_spadl_df = convert_events_df_to_spadl(this_game_events_df, home_team_id)\n",
    "        this_game_events_spadl_df = this_game_events_spadl_df[this_game_events_spadl_df['type_id'].isin(DRIBBLE_ACTION_ID)]\n",
    "        if (period != None):\n",
    "            this_game_events_spadl_df = this_game_events_spadl_df[this_game_events_spadl_df['period_id'] == period]\n",
    "        else:\n",
    "            this_game_events_spadl_df = this_game_events_spadl_df[this_game_events_spadl_df['period_id'] == 1]\n",
    "        # Add additional computed column to support xDribble model\n",
    "        this_game_events_spadl_df = add_is_home_team_column_to_spadl_df(this_game_events_spadl_df, home_team_id)\n",
    "        this_game_events_spadl_df = add_is_take_on_column_to_spadl_df(this_game_events_spadl_df, TAKE_ON_ACTION_ID)\n",
    "\n",
    "        # Export to external csv iteratively\n",
    "        this_game_events_spadl_df.to_csv(f'data/training_data_xdribble_wyscout/{game_id}_{home_team_id}_{away_team_id}_xdribble_data.csv')"
   ]
  },
  {
   "cell_type": "code",
   "execution_count": 278,
   "metadata": {},
   "outputs": [],
   "source": [
    "# FUNCTIONS TO CREATE ALL DATASET PLAYERS\n",
    "def collect_raw_all_players_df(source=\"Wyscout\"):\n",
    "    api = api_wyscout\n",
    "    list_competitions_ids = []\n",
    "    list_game_ids = []\n",
    "    players_df_column = None\n",
    "\n",
    "    competitions_df = api.competitions()\n",
    "    for _, row in competitions_df.iterrows():\n",
    "        list_competitions_ids.append((row['competition_id'], row['season_id']))\n",
    "        \n",
    "    for competition_id, season_id in list_competitions_ids:\n",
    "        games_df = api.games(competition_id, season_id)\n",
    "        for _, row in games_df.iterrows():\n",
    "            list_game_ids.append((row['game_id'], row['home_team_id'], row['away_team_id']))\n",
    "\n",
    "    for game_id, home_team_id, away_team_id in list_game_ids:\n",
    "        players_df = api.players(game_id)\n",
    "        players_df.to_csv(f'data/training_data_players_wyscout/{game_id}_{home_team_id}_{away_team_id}_players_data.csv')\n",
    "\n",
    "def load_and_concat_players_df_from_csv(path_to_raw_players_df):\n",
    "    list_raw_players_df = []\n",
    "    for filename in os.listdir(path_to_raw_players_df):\n",
    "        f = os.path.join(path_to_raw_players_df, filename)\n",
    "        if os.path.isfile(f):\n",
    "            players_df = pd.read_csv(f)\n",
    "            list_raw_players_df.append(players_df)\n",
    "    merged_players_df = pd.concat(list_raw_players_df)\n",
    "    merged_players_df = merged_players_df.drop_duplicates(subset='player_id').reset_index()\n",
    "    return merged_players_df\n",
    "\n",
    "def load_csv_players_data_sofifa(path_to_sofifa_file):\n",
    "    return pd.read_csv(path_to_sofifa_file)"
   ]
  },
  {
   "cell_type": "code",
   "execution_count": 279,
   "metadata": {},
   "outputs": [],
   "source": [
    "# Comment it if players dataset already loaded\n",
    "# collect_raw_all_players_df()"
   ]
  },
  {
   "cell_type": "code",
   "execution_count": 280,
   "metadata": {},
   "outputs": [],
   "source": [
    "# Merge wyscout player datasets with sofifa datasets by matching string name\n",
    "def create_maps_for_name_matching_scores(list_unique_names_df_1, list_unique_names_df_2):\n",
    "    maps_name_matching_score = {}\n",
    "    for name_1 in list_unique_names_df_1:\n",
    "        for name_2 in list_unique_names_df_2:\n",
    "            maps_name_matching_score[(name_1, name_2)] = fuzz.ratio(name_1, name_2)\n",
    "    return maps_name_matching_score\n",
    "\n",
    "def filter_out_maps_for_name_matching_scores(maps_name_matching, threshold):\n",
    "    filtered_maps_name_matching = {}\n",
    "    for name_1, name_2 in maps_name_matching:\n",
    "        if (maps_name_matching[(name_1, name_2)] >= threshold):\n",
    "            filtered_maps_name_matching[(name_1, name_2)] = maps_name_matching[(name_1, name_2)]\n",
    "    return filtered_maps_name_matching\n",
    "\n",
    "def merge_big_dataframe_wyscout_with_sofifa(big_dataframe_players, sofifa_players_dataset, maps_name_matching_score):\n",
    "    # Preprocess both dataframes and add prefix 1- and 2- to all column names to avoid duplicate column names\n",
    "    big_dataframe_players.dropna(subset=['player_name'], inplace=True)\n",
    "    big_dataframe_players.rename(columns=lambda x: '1-'+x, inplace=True)\n",
    "    sofifa_players_dataset.dropna(subset=['full_name'], inplace=True)\n",
    "    sofifa_players_dataset.rename(columns=lambda x: '2-'+x, inplace=True)\n",
    "    # Merge into new empty dataframe one by one by iterating maps name matching score\n",
    "    big_dataframe_players_with_sofifa = pd.DataFrame(columns=list(big_dataframe_players.columns)+list(sofifa_players_dataset.columns), index=[0])\n",
    "    big_dataframe_players_with_sofifa.reset_index(inplace=True)\n",
    "    for name_1, name_2 in maps_name_matching_score:\n",
    "        row_from_big_dataframe_players = big_dataframe_players[big_dataframe_players['1-player_name'] == name_1].iloc[0]\n",
    "        row_from_sofifa_players_dataset = sofifa_players_dataset[sofifa_players_dataset['2-full_name'] == name_2].iloc[0]\n",
    "        new_row = pd.concat([row_from_big_dataframe_players, row_from_sofifa_players_dataset], axis=0, ignore_index=False)\n",
    "        new_row = pd.DataFrame([new_row]).reset_index()\n",
    "        big_dataframe_players_with_sofifa = pd.concat([big_dataframe_players_with_sofifa, new_row])\n",
    "    # Remove prefix 1- and 2- from final big datasets\n",
    "    big_dataframe_players_with_sofifa.rename(columns=lambda x: x[2:], inplace=True)\n",
    "    return big_dataframe_players_with_sofifa\n",
    "\n",
    "DIRECTORY_PLAYERS_CSV_DATAS = \"data/training_data_players_wyscout\"\n",
    "DIRECTORY_SOFIFA_CSV_DATAS = \"data/players_skill_dataset/sofifa_dataset_cleaned.csv\"\n",
    "DIRECTORY_WYSCOUT_CSV_DATAS = \"data/players_skill_dataset/wyscout_dataset_cleaned.csv\"\n",
    "DIRECTORY_FINAL_PLAYERS_CSV_DATAS = \"data/players_skill_dataset/final_players_skill_dataset.csv\"\n",
    "\n",
    "# COMMENT BELOW SNIPPET CODES IF FINAL PLAYER DATASETS WITH SKILL ALREADY GENERATED !!\n",
    "big_dataframe_players = load_and_concat_players_df_from_csv(DIRECTORY_PLAYERS_CSV_DATAS)\n",
    "big_dataframe_players.to_csv(DIRECTORY_WYSCOUT_CSV_DATAS)\n",
    "sofifa_players_dataset = load_csv_players_data_sofifa(DIRECTORY_SOFIFA_CSV_DATAS)\n",
    "\n",
    "maps_name_matching_score = create_maps_for_name_matching_scores(big_dataframe_players['player_name'].unique(), sofifa_players_dataset['full_name'].unique())\n",
    "maps_name_matching_score = filter_out_maps_for_name_matching_scores(maps_name_matching_score, threshold=80)\n",
    "\n",
    "big_dataframe_players_with_sofifa = merge_big_dataframe_wyscout_with_sofifa(big_dataframe_players, sofifa_players_dataset, maps_name_matching_score)\n",
    "big_dataframe_players_with_sofifa.reset_index(inplace=True)\n",
    "big_dataframe_players_with_sofifa = big_dataframe_players_with_sofifa.drop_duplicates(subset='player_id')\n",
    "big_dataframe_players_with_sofifa.to_csv(DIRECTORY_FINAL_PLAYERS_CSV_DATAS)\n"
   ]
  }
 ],
 "metadata": {
  "kernelspec": {
   "display_name": "Python 3",
   "language": "python",
   "name": "python3"
  },
  "language_info": {
   "codemirror_mode": {
    "name": "ipython",
    "version": 3
   },
   "file_extension": ".py",
   "mimetype": "text/x-python",
   "name": "python",
   "nbconvert_exporter": "python",
   "pygments_lexer": "ipython3",
   "version": "3.11.5"
  }
 },
 "nbformat": 4,
 "nbformat_minor": 2
}
