{
 "cells": [
  {
   "cell_type": "code",
   "execution_count": 1,
   "metadata": {},
   "outputs": [],
   "source": [
    "# import pandas as pd\n",
    "# from name_matching.name_matcher import NameMatcher\n",
    "\n",
    "# # define a dataset with bank names\n",
    "# df_companies_a = pd.DataFrame({'Company name': [\n",
    "#         'Industrial and Commercial Bank of China Limited',\n",
    "#         'China Construction Bank',\n",
    "#         'Agricultural Bank of China',\n",
    "#         'Bank of China',\n",
    "#         'JPMorgan Chase',\n",
    "#         'Mitsubishi UFJ Financial Group',\n",
    "#         'Bank of America',\n",
    "#         'HSBC',\n",
    "#         'BNP Paribas',\n",
    "#         'CrÃ©dit Agricole']})\n",
    "\n",
    "# # alter each of the bank names a bit to test the matching\n",
    "# df_companies_b = pd.DataFrame({'name': [\n",
    "#         'Steve',\n",
    "#         'Mitsubishi Financial Group',\n",
    "#         'Construction Bank China',\n",
    "#         'Agricultural Bank',\n",
    "#         'Bank of Amerika',\n",
    "#         'BNP Parisbas',\n",
    "#         'JP Morgan Chase',\n",
    "#         'HSCB',\n",
    "#         'Industrial and Commercial Bank of China',\n",
    "#         'Credite Agricole']})\n",
    "\n",
    "# # initialise the name matcher\n",
    "# matcher = NameMatcher(number_of_matches=1, \n",
    "#                       legal_suffixes=True, \n",
    "#                       common_words=False, \n",
    "#                       top_n=50, \n",
    "#                       verbose=True)\n",
    "\n",
    "# # adjust the distance metrics to use\n",
    "# matcher.set_distance_metrics(['bag', 'typo', 'refined_soundex'])\n",
    "\n",
    "# # load the data to which the names should be matched\n",
    "# matcher.load_and_process_master_data(column='Company name',\n",
    "#                                      df_matching_data=df_companies_a, \n",
    "#                                      transform=True)\n",
    "\n",
    "# # perform the name matching on the data you want matched\n",
    "# matches = matcher.match_names(to_be_matched=df_companies_b, \n",
    "#                               column_matching='name')\n",
    "# matches\n",
    "\n",
    "# # combine the datasets based on the matches\n",
    "# # combined = pd.merge(df_companies_a, matches, how='inner', left_index=True, right_on='match_index')\n",
    "# # combined = pd.merge(combined, df_companies_b, how='inner', left_index=True, right_index=True)\n",
    "\n",
    "# # combined.reset_index()"
   ]
  },
  {
   "cell_type": "code",
   "execution_count": 2,
   "metadata": {},
   "outputs": [
    {
     "name": "stdout",
     "output_type": "stream",
     "text": [
      "70.96774193548387\n"
     ]
    }
   ],
   "source": [
    "from rapidfuzz import fuzz \n",
    "\n",
    "name1 = \"Francesco Rossi\" \n",
    "name2 = \"Francesco Caputo\" \n",
    "\n",
    "similarity_ratio = fuzz.ratio(name1, name2) \n",
    "print(similarity_ratio) "
   ]
  }
 ],
 "metadata": {
  "kernelspec": {
   "display_name": "Python 3",
   "language": "python",
   "name": "python3"
  },
  "language_info": {
   "codemirror_mode": {
    "name": "ipython",
    "version": 3
   },
   "file_extension": ".py",
   "mimetype": "text/x-python",
   "name": "python",
   "nbconvert_exporter": "python",
   "pygments_lexer": "ipython3",
   "version": "3.11.5"
  }
 },
 "nbformat": 4,
 "nbformat_minor": 2
}
